{
 "cells": [
  {
   "cell_type": "code",
   "execution_count": 1,
   "metadata": {
    "collapsed": true
   },
   "outputs": [],
   "source": [
    "\n",
    "import numpy as np\n",
    "import pandas as pd\n"
   ]
  },
  {
   "cell_type": "code",
   "execution_count": 9,
   "outputs": [],
   "source": [
    "X = np.random.randint(1,high=100,size=(100,2))"
   ],
   "metadata": {
    "collapsed": false,
    "pycharm": {
     "name": "#%%\n"
    }
   }
  },
  {
   "cell_type": "code",
   "execution_count": 10,
   "outputs": [],
   "source": [
    "X_DF = pd.DataFrame(data=X)\n"
   ],
   "metadata": {
    "collapsed": false,
    "pycharm": {
     "name": "#%%\n"
    }
   }
  },
  {
   "cell_type": "code",
   "execution_count": 12,
   "outputs": [],
   "source": [
    "xbar = X_DF.iloc[:,0].mean()\n",
    "ybar = X_DF.iloc[:,1].mean()\n",
    "\n",
    "n = X_DF.iloc[:,0].shape[0]\n",
    "\n",
    "xy_bar = (X_DF.iloc[:,0]*X_DF.iloc[:,1]).iloc[:].mean()\n",
    "x2bat = (X_DF.iloc[:,0]*X_DF.iloc[:,0]).iloc[:].mean()\n",
    "\n",
    "khat =(xy_bar - xbar*ybar)/(x2bat - xbar*xbar) #\n",
    "khat = (xy_bar*n - n*xbar*ybar)/(x2bat*n-n*xbar*xbar) #百度百科上写错了\n",
    "\n",
    "bhat = ybar - khat*xbar\n",
    "\n"
   ],
   "metadata": {
    "collapsed": false,
    "pycharm": {
     "name": "#%%\n"
    }
   }
  },
  {
   "cell_type": "code",
   "execution_count": 8,
   "outputs": [],
   "source": [
    "### 利用矩阵法求解w（也就是k和b）\n",
    "\n",
    "X = pd.DataFrame(X_DF.iloc[:,0])\n",
    "X['b'] = 1\n",
    "y = X_DF.iloc[:,1].T\n",
    "\n",
    "ans1 = X.T.dot(X)\n",
    "ans1_1 =pd.DataFrame(np.linalg.pinv(ans1.values), ans1.columns, ans1.index)\n",
    "ans2 = ans1_1.dot(X.T)\n",
    "ans3 = ans2.dot(y)\n",
    "\n",
    "#ans3.iloc[0]\n",
    "#0.07272013571049878\n",
    "#ans3.iloc[1]\n",
    "#48.956009700983756"
   ],
   "metadata": {
    "collapsed": false,
    "pycharm": {
     "name": "#%%\n"
    }
   }
  },
  {
   "cell_type": "code",
   "execution_count": null,
   "outputs": [],
   "source": [
    "\n"
   ],
   "metadata": {
    "collapsed": false,
    "pycharm": {
     "name": "#%%\n"
    }
   }
  }
 ],
 "metadata": {
  "kernelspec": {
   "display_name": "Python 3",
   "language": "python",
   "name": "python3"
  },
  "language_info": {
   "codemirror_mode": {
    "name": "ipython",
    "version": 2
   },
   "file_extension": ".py",
   "mimetype": "text/x-python",
   "name": "python",
   "nbconvert_exporter": "python",
   "pygments_lexer": "ipython2",
   "version": "2.7.6"
  }
 },
 "nbformat": 4,
 "nbformat_minor": 0
}